{
 "cells": [
  {
   "cell_type": "markdown",
   "metadata": {},
   "source": [
    "# Connect to Microsoft Access Database file\n",
    "## Requirements \n",
    "- In order to access the db x64 systems must have the `Microsoft Access Driver (*.mdb, *.accdb)` driver \n",
    "- `pyodbc`\n",
    "  - After installing pyodbc (e.g. `pip install pyodbc`) run:\n",
    "   `pyodbc.drivers()` to checkout your system drivers.\n",
    "- Refactor the `ArchiveIndex_Beta_Install.mdb` file path according to your local setup"
   ]
  },
  {
   "cell_type": "code",
   "execution_count": 2,
   "metadata": {},
   "outputs": [
    {
     "name": "stdout",
     "output_type": "stream",
     "text": [
      "Connected\n"
     ]
    }
   ],
   "source": [
    "import pyodbc\n",
    "conn = pyodbc.connect(r'Driver={Microsoft Access Driver (*.mdb, *.accdb)};DBQ=Standalone_GCBM\\\\input_database\\\\ArchiveIndex_Beta_Install.mdb;')\n",
    "cursor = conn.cursor()\n",
    "print('Connected')"
   ]
  },
  {
   "cell_type": "markdown",
   "metadata": {},
   "source": [
    "### This script converts the encoding of future outputs in utf-16 for convinience"
   ]
  },
  {
   "cell_type": "code",
   "execution_count": 3,
   "metadata": {},
   "outputs": [],
   "source": [
    "def decode_sketchy_utf16(raw_bytes):\n",
    "    s = raw_bytes.decode(\"utf-16le\", \"ignore\")\n",
    "    try:\n",
    "        n = s.index('\\u0000')\n",
    "        s = s[:n]  # respect null terminator\n",
    "    except ValueError:\n",
    "        pass\n",
    "    return s\n",
    "\n",
    "prev_converter = conn.get_output_converter(pyodbc.SQL_WVARCHAR)\n",
    "conn.add_output_converter(pyodbc.SQL_WVARCHAR, decode_sketchy_utf16)"
   ]
  },
  {
   "cell_type": "markdown",
   "metadata": {},
   "source": [
    "# Table Columns & Column Types"
   ]
  },
  {
   "cell_type": "code",
   "execution_count": 4,
   "metadata": {},
   "outputs": [
    {
     "name": "stdout",
     "output_type": "stream",
     "text": [
      "Table Paste Errors with columns:\n",
      "SPUID : DOUBLE\n",
      "B1 : DOUBLE\n",
      "B2 : DOUBLE\n"
     ]
    }
   ],
   "source": [
    "tables = []\n",
    "\n",
    "for table in cursor.tables(tableType='TABLE'):\n",
    "    tables.append(table.table_name)\n",
    "\n",
    "for row in tables:\n",
    "    print(f\"Table {row} with columns:\")\n",
    "    for col in cursor.columns(row):\n",
    "        print(f\"{col.column_name} : {col.type_name}\")"
   ]
  },
  {
   "cell_type": "markdown",
   "metadata": {},
   "source": [
    "# View Columns & Column Types"
   ]
  },
  {
   "cell_type": "code",
   "execution_count": null,
   "metadata": {},
   "outputs": [
    {
     "ename": "",
     "evalue": "",
     "output_type": "error",
     "traceback": [
      "\u001b[1;31mCanceled future for execute_request message before replies were done"
     ]
    },
    {
     "ename": "",
     "evalue": "",
     "output_type": "error",
     "traceback": [
      "\u001b[1;31mThe Kernel crashed while executing code in the the current cell or a previous cell. Please review the code in the cell(s) to identify a possible cause of the failure. Click <a href='https://aka.ms/vscodeJupyterKernelCrash'>here</a> for more info. View Jupyter <a href='command:jupyter.viewOutput'>log</a> for further details."
     ]
    }
   ],
   "source": [
    "views = []\n",
    "\n",
    "for view in cursor.tables(tableType='VIEW'):\n",
    "    views.append(view.table_name)\n",
    "\n",
    "for view in views:\n",
    "    print(f\"View {view} with columns:\")\n",
    "    for col in cursor.columns(view):\n",
    "        print(f\"{col.column_name} : {col.type_name}\")"
   ]
  },
  {
   "cell_type": "markdown",
   "metadata": {},
   "source": [
    "# Sample Query\n",
    "- It uses pandas to store the sql output in a `pandas.Dataframe`"
   ]
  },
  {
   "cell_type": "code",
   "execution_count": null,
   "metadata": {},
   "outputs": [
    {
     "name": "stdout",
     "output_type": "stream",
     "text": [
      "     NIR_version  DefaultEco   DMID  DMRow  SumOfProportion\n",
      "0         2009.0         4.0  281.0    2.0         1.000000\n",
      "1         2009.0         4.0  281.0    3.0         0.250000\n",
      "2         2009.0         4.0  281.0    4.0         0.250000\n",
      "3         2009.0         4.0  281.0    6.0         0.191377\n",
      "4         2009.0         4.0  281.0    8.0         0.996737\n",
      "..           ...         ...    ...    ...              ...\n",
      "635       2010.0        18.0  344.0   12.0         0.138842\n",
      "636       2010.0        18.0  344.0   13.0         1.000000\n",
      "637       2010.0        18.0  344.0   15.0         0.614602\n",
      "638       2010.0        18.0  344.0   17.0         0.163778\n",
      "639       2010.0        18.0  344.0   18.0         0.284664\n",
      "\n",
      "[640 rows x 5 columns]\n"
     ]
    }
   ],
   "source": [
    "import pandas as pd\n",
    "query = \"SELECT * FROM qryCombustedProportion\"\n",
    "res = pd.read_sql(query,conn)\n",
    "print(res)"
   ]
  }
 ],
 "metadata": {
  "kernelspec": {
   "display_name": "Python 3.8.5 ('base')",
   "language": "python",
   "name": "python3"
  },
  "language_info": {
   "codemirror_mode": {
    "name": "ipython",
    "version": 3
   },
   "file_extension": ".py",
   "mimetype": "text/x-python",
   "name": "python",
   "nbconvert_exporter": "python",
   "pygments_lexer": "ipython3",
   "version": "3.8.5"
  },
  "orig_nbformat": 4,
  "vscode": {
   "interpreter": {
    "hash": "a71b92613a13638b12997437a8c705487d67f7a11961cf0793a571e2b17ddd4b"
   }
  }
 },
 "nbformat": 4,
 "nbformat_minor": 2
}
